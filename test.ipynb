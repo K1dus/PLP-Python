{
 "cells": [
  {
   "cell_type": "markdown",
   "metadata": {},
   "source": [
    "# Data Analysis & Visualization\n",
    "This notebook demonstrates loading, cleaning, analyzing, and visualizing a dataset using **pandas**, **matplotlib**, and **seaborn**."
   ]
  },
  {
   "cell_type": "code",
   "execution_count": null,
   "metadata": {},
   "outputs": [],
   "source": [
    "# Step 0: Create a dummy dataset for demonstration\n",
    "import pandas as pd\n",
    "\n",
    "dummy_data = {\n",
    "    'col_A': [1, 2, None, 4, 5, 6, None, 8, 9, 10],\n",
    "    'col_B': [1.1, 2.2, 3.3, None, 5.5, 6.6, 7.7, 8.8, None, 10.10],\n",
    "    'col_C': ['A', 'B', 'A', 'C', None, 'B', 'A', 'C', 'B', None],\n",
    "    'col_D': ['X', None, 'Y', 'X', 'Z', 'Y', 'X', None, 'Z', 'Y']\n",
    "}\n",
    "\n",
    "df_dummy = pd.DataFrame(dummy_data)\n",
    "df_dummy.to_csv('data.csv', index=False)\n",
    "print(\"Dummy 'data.csv' file created.\")"
   ]
  },
  {
   "cell_type": "code",
   "execution_count": null,
   "metadata": {},
   "outputs": [],
   "source": [
    "# Step 1: Load the dataset with error handling\n",
    "file_path = 'data.csv'\n",
    "\n",
    "try:\n",
    "    df = pd.read_csv(file_path)\n",
    "    print(\"Dataset loaded successfully.\")\n",
    "except FileNotFoundError:\n",
    "    print(f\"Error: The file '{file_path}' was not found.\")\n",
    "except Exception as e:\n",
    "    print(f\"An error occurred while loading the file: {e}\")"
   ]
  },
  {
   "cell_type": "code",
   "execution_count": null,
   "metadata": {},
   "outputs": [],
   "source": [
    "# Step 2: Explore and clean the dataset\n",
    "print(\"\\nFirst 5 rows:\")\n",
    "display(df.head())\n",
    "\n",
    "print(\"\\nData types and info:\")\n",
    "df.info()\n",
    "\n",
    "print(\"\\nMissing values before handling:\")\n",
    "display(df.isnull().sum())\n",
    "\n",
    "# Handle missing values\n",
    "numerical_cols = df.select_dtypes(include=['number']).columns\n",
    "categorical_cols = df.select_dtypes(include=['object', 'category']).columns\n",
    "\n",
    "for col in numerical_cols:\n",
    "    df[col] = df[col].fillna(df[col].mean())\n",
    "\n",
    "for col in categorical_cols:\n",
    "    df[col] = df[col].fillna(df[col].mode()[0])\n",
    "\n",
    "print(\"\\nMissing values after handling:\")\n",
    "display(df.isnull().sum())"
   ]
  },
  {
   "cell_type": "code",
   "execution_count": null,
   "metadata": {},
   "outputs": [],
   "source": [
    "# Step 3: Basic Data Analysis\n",
    "print(\"Descriptive statistics for numerical columns:\")\n",
    "display(df.describe())\n",
    "\n",
    "# Group by a categorical column\n",
    "categorical_col = 'col_C'\n",
    "numerical_col = 'col_A'\n",
    "grouped_mean = df.groupby(categorical_col)[numerical_col].mean()\n",
    "\n",
    "print(f\"\\nMean of '{numerical_col}' grouped by '{categorical_col}':\")\n",
    "display(grouped_mean)"
   ]
  },
  {
   "cell_type": "code",
   "execution_count": null,
   "metadata": {},
   "outputs": [],
   "source": [
    "# Step 4: Data Visualization\n",
    "import matplotlib.pyplot as plt\n",
    "import seaborn as sns\n",
    "\n",
    "sns.set_style('whitegrid')\n",
    "\n",
    "# 1. Line Chart\n",
    "plt.figure(figsize=(10,6))\n",
    "plt.plot(df.index, df['col_A'], marker='o')\n",
    "plt.title('Line Chart of col_A over Index')\n",
    "plt.xlabel('Index')\n",
    "plt.ylabel('col_A Value')\n",
    "plt.show()\n",
    "\n",
    "# 2. Bar Chart of grouped mean\n",
    "plt.figure(figsize=(8,5))\n",
    "grouped_mean.plot(kind='bar', color=['skyblue','orange','green'])\n",
    "plt.title(f'Mean of {numerical_col} grouped by {categorical_col}')\n",
    "plt.xlabel(categorical_col)\n",
    "plt.ylabel(f'Mean {numerical_col}')\n",
    "plt.xticks(rotation=0)\n",
    "plt.show()\n",
    "\n",
    "# 3. Histogram of col_B\n",
    "plt.figure(figsize=(8,5))\n",
    "sns.histplot(df['col_B'], bins=5, kde=True, color='purple')\n",
    "plt.title('Histogram of col_B')\n",
    "plt.xlabel('col_B Value')\n",
    "plt.ylabel('Frequency')\n",
    "plt.show()\n",
    "\n",
    "# 4. Scatter Plot of col_A vs col_B\n",
    "plt.figure(figsize=(8,5))\n",
    "sns.scatterplot(data=df, x='col_A', y='col_B', hue='col_C', palette='Set1', s=100)\n",
    "plt.title('Scatter Plot of col_A vs col_B')\n",
    "plt.xlabel('col_A')\n",
    "plt.ylabel('col_B')\n",
    "plt.legend(title='col_C')\n",
    "plt.show()"
   ]
  },
  {
   "cell_type": "markdown",
   "metadata": {},
   "source": [
    "## Step 5: Summary of Findings\n",
    "- All missing values were handled: numerical columns filled with mean, categorical columns filled with mode.\n",
    "- Descriptive statistics show ranges and means of numerical columns.\n",
    "- Grouped analysis reveals differences in col_A across categories of col_C.\n",
    "- Visualizations (line, bar, histogram, scatter) provide insight into trends, distributions, and relationships."
   ]
  }
 ],
 "metadata": {
  "kernelspec": {
   "display_name": "Python 3",
   "language": "python",
   "name": "python3"
  },
  "language_info": {
   "name": "python",
   "version": "3.10"
  }
 },
 "nbformat": 5,
 "nbformat_minor": 10
}
