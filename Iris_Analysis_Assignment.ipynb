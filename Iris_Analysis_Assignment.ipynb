# iris_analysis.py

# Import libraries
import pandas as pd
import matplotlib.pyplot as plt
import seaborn as sns
from sklearn.datasets import load_iris

# ===========================
# Step 0: Save Iris dataset as CSV
# ===========================
iris = load_iris()
df = pd.DataFrame(data=iris.data, columns=iris.feature_names)
df['species'] = pd.Categorical.from_codes(iris.target, iris.target_names)

csv_file = "iris_dataset.csv"
df.to_csv(csv_file, index=False)
print(f"Iris dataset saved as '{csv_file}'")

# ===========================
# Step 1: Load and Explore Dataset
# ===========================
df = pd.read_csv(csv_file)
print("First 5 rows:")
print(df.head())
print("\nInfo:")
print(df.info())
print("\nMissing values:")
print(df.isnull().sum())

# ===========================
# Step 2: Basic Data Analysis
# ===========================
print("\nBasic statistics:")
print(df.describe())

grouped = df.groupby('species').mean()
print("\nMean values per species:")
print(grouped)

# ===========================
# Step 3: Data Visualization
# ===========================
sns.set(style="whitegrid")

# Line chart
plt.figure(figsize=(8,5))
plt.plot(df.index, df['sepal length (cm)'], color='blue', label='Sepal Length')
plt.title('Sepal Length Trend Across Samples')
plt.xlabel('Sample Index')
plt.ylabel('Sepal Length (cm)')
plt.legend()
plt.show()

# Bar chart
plt.figure(figsize=(6,4))
grouped['petal length (cm)'].plot(kind='bar', color=['green','orange','red'])
plt.title('Average Petal Length per Species')
plt.xlabel('Species')
plt.ylabel('Petal Length (cm)')
plt.show()

# Histogram
plt.figure(figsize=(6,4))
plt.hist(df['petal width (cm)'], bins=10, color='purple', edgecolor='black')
plt.title('Distribution of Petal Width')
plt.xlabel('Petal Width (cm)')
plt.ylabel('Frequency')
plt.show()

# Scatter plot
plt.figure(figsize=(6,4))
sns.scatterplot(data=df, x='sepal length (cm)', y='petal length (cm)', hue='species', palette='Set1')
plt.title('Sepal Length vs Petal Length')
plt.xlabel('Sepal Length (cm)')
plt.ylabel('Petal Length (cm)')
plt.legend()
plt.show()

print("\nAll tasks completed successfully!")
