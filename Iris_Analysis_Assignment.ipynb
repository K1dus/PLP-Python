# ===========================
# Iris Dataset Analysis & Visualization
# ===========================

# Import libraries
import pandas as pd
import matplotlib.pyplot as plt
import seaborn as sns
from sklearn.datasets import load_iris

# ===========================
# Step 0: Save Iris dataset as CSV
# ===========================

iris = load_iris()
df = pd.DataFrame(data=iris.data, columns=iris.feature_names)
df['species'] = pd.Categorical.from_codes(iris.target, iris.target_names)

csv_file = "iris_dataset.csv"
df.to_csv(csv_file, index=False)
print(f"Iris dataset saved as '{csv_file}'")

# ===========================
# Step 1: Load and Explore Dataset
# ===========================

try:
    df = pd.read_csv(csv_file)
    print("Dataset loaded successfully!\n")
except FileNotFoundError:
    print(f"Error: File '{csv_file}' not found.")
    exit()
except pd.errors.EmptyDataError:
    print(f"Error: File '{csv_file}' is empty.")
    exit()
except Exception as e:
    print(f"An unexpected error occurred: {e}")
    exit()

print("First 5 rows of the dataset:")
print(df.head())

print("\nDataset info:")
print(df.info())

print("\nMissing values per column:")
print(df.isnull().sum())

df.fillna(method='ffill', inplace=True)  # handle missing values

# ===========================
# Step 2: Basic Data Analysis
# ===========================

print("\nBasic statistics:")
print(df.describe())

# Group by species
grouped = df.groupby('species').mean()
print("\nMean values per species:")
print(grouped)

# Observations
print("\nObservations:")
print("- Setosa species generally has smaller measurements.")
print("- Versicolor species has intermediate sizes.")
print("- Virginica species tends to have the largest measurements.")

# ===========================
# Step 3: Data Visualization
# ===========================

sns.set(style="whitegrid")  # Seaborn style

# 1) Line chart: sepal length trend
plt.figure(figsize=(8,5))
plt.plot(df.index, df['sepal length (cm)'], color='blue', label='Sepal Length')
plt.title('Sepal Length Trend Across Samples')
plt.xlabel('Sample Index')
plt.ylabel('Sepal Length (cm)')
plt.legend()
plt.show()

# 2) Bar chart: average petal length per species
plt.figure(figsize=(6,4))
grouped['petal length (cm)'].plot(kind='bar', color=['green','orange','red'])
plt.title('Average Petal Length per Species')
plt.xlabel('Species')
plt.ylabel('Petal Length (cm)')
plt.show()

# 3) Histogram: distribution of petal width
plt.figure(figsize=(6,4))
plt.hist(df['petal width (cm)'], bins=10, color='purple', edgecolor='black')
plt.title('Distribution of Petal Width')
plt.xlabel('Petal Width (cm)')
plt.ylabel('Frequency')
plt.show()

# 4) Scatter plot: sepal length vs petal length
plt.figure(figsize=(6,4))
sns.scatterplot(data=df, x='sepal length (cm)', y='petal length (cm)', hue='species', palette='Set1')
plt.title('Sepal Length vs Petal Length')
plt.xlabel('Sepal Length (cm)')
plt.ylabel('Petal Length (cm)')
plt.legend()
plt.show()

print("\nAll tasks completed successfully!")
